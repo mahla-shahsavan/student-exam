{
 "cells": [
  {
   "cell_type": "code",
   "execution_count": 10,
   "metadata": {},
   "outputs": [
    {
     "data": {
      "text/plain": [
       "['tom, 10, 20 , 0,100,0,100,70,80,90,0,80,85',\n",
       " 'mary,0,50,66,40,10,60,70,80,90,100,80,85',\n",
       " 'joan,0,80,40,10,50,60,7,80,90,0,80,5']"
      ]
     },
     "execution_count": 10,
     "metadata": {},
     "output_type": "execute_result"
    }
   ],
   "source": [
    "str_students = \"\"\"tom, 10, 20 , 0,100,0,100,70,80,90,0,80,85\n",
    "mary,0,50,66,40,10,60,70,80,90,100,80,85\n",
    "joan,0,80,40,10,50,60,7,80,90,0,80,5\"\"\"\n",
    "\n",
    "arr_students = str_students.split(\"\\n\") \n",
    "arr_students"
   ]
  },
  {
   "cell_type": "code",
   "execution_count": 16,
   "metadata": {},
   "outputs": [
    {
     "data": {
      "text/plain": [
       "{'tom': [' 10',\n",
       "  ' 20 ',\n",
       "  ' 0',\n",
       "  '100',\n",
       "  '0',\n",
       "  '100',\n",
       "  '70',\n",
       "  '80',\n",
       "  '90',\n",
       "  '0',\n",
       "  '80',\n",
       "  '85'],\n",
       " 'mary': ['0',\n",
       "  '50',\n",
       "  '66',\n",
       "  '40',\n",
       "  '10',\n",
       "  '60',\n",
       "  '70',\n",
       "  '80',\n",
       "  '90',\n",
       "  '100',\n",
       "  '80',\n",
       "  '85'],\n",
       " 'joan': ['0', '80', '40', '10', '50', '60', '7', '80', '90', '0', '80', '5']}"
      ]
     },
     "execution_count": 16,
     "metadata": {},
     "output_type": "execute_result"
    }
   ],
   "source": [
    "dic = {}\n",
    "for str_student in arr_students:\n",
    "  arr_student = str_student.split(\",\")\n",
    "  dic[arr_student[0]] = arr_student[1:]\n",
    "dic"
   ]
  }
 ],
 "metadata": {
  "kernelspec": {
   "display_name": "Python 3",
   "language": "python",
   "name": "python3"
  },
  "language_info": {
   "codemirror_mode": {
    "name": "ipython",
    "version": 3
   },
   "file_extension": ".py",
   "mimetype": "text/x-python",
   "name": "python",
   "nbconvert_exporter": "python",
   "pygments_lexer": "ipython3",
   "version": "3.12.6"
  }
 },
 "nbformat": 4,
 "nbformat_minor": 2
}
